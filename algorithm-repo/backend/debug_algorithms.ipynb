{
 "cells": [
  {
   "attachments": {},
   "cell_type": "markdown",
   "metadata": {},
   "source": [
    "# Debug Custom Algorithms"
   ]
  },
  {
   "cell_type": "code",
   "execution_count": 3,
   "metadata": {},
   "outputs": [],
   "source": [
    "import json"
   ]
  },
  {
   "cell_type": "code",
   "execution_count": 14,
   "metadata": {},
   "outputs": [
    {
     "name": "stdout",
     "output_type": "stream",
     "text": [
      "Running algorithm...\n",
      "This is ExampleAlgorithm\n",
      "Info algorithm: \n",
      " {\n",
      "    \"name\": \"ExampleAlgorithm\",\n",
      "    \"version\": \"0.1\",\n",
      "    \"description\": \"Example Algorithm\",\n",
      "    \"module\": \"src.algorithms.example1\",\n",
      "    \"input_schema\": {},\n",
      "    \"output_schema\": {}\n",
      "}\n",
      "Errors: {'success': True}\n"
     ]
    }
   ],
   "source": [
    "from src.algorithms import example1\n",
    "\n",
    "alg = example1.ExampleAlgorithm()\n",
    "\n",
    "if alg.validate_input() == False:\n",
    "    print(\"Input JSON not following the Schema\")\n",
    "    print(f\"Input JSON Schema: \\n {json.dumps(alg.input_schema, indent=4)}\")\n",
    "    raise Exception\n",
    "\n",
    "output = alg.run()\n",
    "print(f\"Info algorithm: \\n {json.dumps(alg.to_dict(), indent=4)}\")\n",
    "print(f\"Errors: {alg.error}\")\n"
   ]
  },
  {
   "cell_type": "code",
   "execution_count": 13,
   "metadata": {},
   "outputs": [
    {
     "name": "stdout",
     "output_type": "stream",
     "text": [
      "Running algorithm...\n",
      "Input parameter: {'name': 'debug_algorithm', 'ip_address': [5, 10, 15, 20, 25], 'version': 1.0}\n",
      "This is TestAlgorithm\n",
      "Info algorithm: \n",
      " {\n",
      "    \"name\": \"TestAlgorithm\",\n",
      "    \"version\": \"0.2\",\n",
      "    \"description\": \"Example Algorithm 2\",\n",
      "    \"module\": \"src.algorithms.example2\",\n",
      "    \"input_schema\": {\n",
      "        \"$schema\": \"http://json-schema.org/schema#\",\n",
      "        \"type\": \"object\",\n",
      "        \"properties\": {\n",
      "            \"name\": {\n",
      "                \"type\": \"string\"\n",
      "            },\n",
      "            \"ip_address\": {\n",
      "                \"type\": \"array\",\n",
      "                \"items\": {\n",
      "                    \"type\": \"integer\"\n",
      "                }\n",
      "            },\n",
      "            \"version\": {\n",
      "                \"type\": \"number\"\n",
      "            }\n",
      "        },\n",
      "        \"required\": [\n",
      "            \"ip_address\",\n",
      "            \"name\",\n",
      "            \"version\"\n",
      "        ]\n",
      "    },\n",
      "    \"output_schema\": {\n",
      "        \"$schema\": \"http://json-schema.org/schema#\",\n",
      "        \"type\": \"object\",\n",
      "        \"properties\": {\n",
      "            \"success\": {\n",
      "                \"type\": \"boolean\"\n",
      "            },\n",
      "            \"output\": {\n",
      "                \"type\": \"object\",\n",
      "                \"properties\": {\n",
      "                    \"name\": {\n",
      "                        \"type\": \"string\"\n",
      "                    },\n",
      "                    \"ip_address\": {\n",
      "                        \"type\": \"array\",\n",
      "                        \"items\": {\n",
      "                            \"type\": \"integer\"\n",
      "                        }\n",
      "                    },\n",
      "                    \"version\": {\n",
      "                        \"type\": \"number\"\n",
      "                    }\n",
      "                },\n",
      "                \"required\": [\n",
      "                    \"ip_address\",\n",
      "                    \"name\",\n",
      "                    \"version\"\n",
      "                ]\n",
      "            }\n",
      "        },\n",
      "        \"required\": [\n",
      "            \"output\",\n",
      "            \"success\"\n",
      "        ]\n",
      "    }\n",
      "}\n",
      "Errors: {'success': True}\n"
     ]
    }
   ],
   "source": [
    "from src.algorithms import example2\n",
    "\n",
    "input = {\n",
    "    \"name\": \"debug_algorithm\",\n",
    "    \"ip_address\": [5,10,15,20,25],\n",
    "    \"version\": 1.0\n",
    "}\n",
    "\n",
    "alg2 = example2.TestAlgorithm(input_parameters=input)\n",
    "\n",
    "if alg2.validate_input() == False:\n",
    "    print(\"Input JSON not following the Schema\")\n",
    "    print(f\"Input JSON Schema: \\n {json.dumps(alg2.input_schema, indent=4)}\")\n",
    "    raise Exception\n",
    "\n",
    "output2 = alg2.run()\n",
    "print(f\"Info algorithm: \\n {json.dumps(alg2.to_dict(), indent=4)}\")\n",
    "print(f\"Errors: {alg2.error}\")"
   ]
  }
 ],
 "metadata": {
  "kernelspec": {
   "display_name": "env",
   "language": "python",
   "name": "python3"
  },
  "language_info": {
   "codemirror_mode": {
    "name": "ipython",
    "version": 3
   },
   "file_extension": ".py",
   "mimetype": "text/x-python",
   "name": "python",
   "nbconvert_exporter": "python",
   "pygments_lexer": "ipython3",
   "version": "3.10.9"
  },
  "orig_nbformat": 4,
  "vscode": {
   "interpreter": {
    "hash": "01c52c353aee82f596dcad3be5238fb5666e3ea0ea64a071d399a15db25f4ac7"
   }
  }
 },
 "nbformat": 4,
 "nbformat_minor": 2
}

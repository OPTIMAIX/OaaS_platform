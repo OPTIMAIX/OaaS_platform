{
 "cells": [
  {
   "cell_type": "markdown",
   "metadata": {},
   "source": [
    "# Integrations tests: NDT inside OaaS Platform v2"
   ]
  },
  {
   "cell_type": "code",
   "execution_count": 18,
   "metadata": {},
   "outputs": [],
   "source": [
    "import requests\n",
    "import json\n",
    "\n",
    "URL = 'http://0.0.0.0:5000'\n",
    "START_PORT = 55000"
   ]
  },
  {
   "cell_type": "markdown",
   "metadata": {},
   "source": [
    "* Ejecutamos OaaS Node y comprobamos que podemos acceder a su API: <http://0.0.0.0:5000> \n",
    "* Partimos de que tenemos subido el NDT al registry de Optimaix\n",
    "* El NDT esta subido al registry con el nombre: _elighthouse-ndt_"
   ]
  },
  {
   "cell_type": "markdown",
   "metadata": {},
   "source": [
    "### 1. Dar del alta el Repository de NDT dentro de OaaS Node"
   ]
  },
  {
   "cell_type": "code",
   "execution_count": 19,
   "metadata": {},
   "outputs": [
    {
     "name": "stdout",
     "output_type": "stream",
     "text": [
      "{\n",
      "    \"items\": [],\n",
      "    \"total\": 0,\n",
      "    \"page\": 1,\n",
      "    \"size\": 50,\n",
      "    \"pages\": 0\n",
      "}\n"
     ]
    }
   ],
   "source": [
    "# Comprobar que repositorios hay actualmente en la plataforma\n",
    "\n",
    "# GET /algorithmRepository\n",
    "response = requests.get(URL + '/images')\n",
    "\n",
    "if response.status_code == 200:\n",
    "    data = response.json()  # Parse JSON data into a dictionary\n",
    "    print(json.dumps(data, indent=4))  # Pretty-print the JSON data\n",
    "else:\n",
    "    print(\"Failed to retrieve data\")\n"
   ]
  },
  {
   "cell_type": "code",
   "execution_count": 20,
   "metadata": {},
   "outputs": [
    {
     "name": "stdout",
     "output_type": "stream",
     "text": [
      "{'name': 'NDT Repository', 'description': 'Network Digital Twin based in Net2Plan', 'imageUrl': 'elighthouse-ndt', 'type': 'java'}\n",
      "{\n",
      "    \"imageId\": 1,\n",
      "    \"name\": \"NDT Repository\",\n",
      "    \"description\": \"Network Digital Twin based in Net2Plan\",\n",
      "    \"imageUrl\": \"elighthouse-ndt\",\n",
      "    \"type\": \"java\",\n",
      "    \"instances\": [],\n",
      "    \"resources\": [\n",
      "        {\n",
      "            \"resourceId\": 1,\n",
      "            \"localId\": 0,\n",
      "            \"name\": \"elighthouse-ndt\",\n",
      "            \"version\": \"1.0\",\n",
      "            \"description\": \"Direct Algorithm elighthouse-ndt\",\n",
      "            \"execution_type\": \"direct\",\n",
      "            \"inputParametersTemplate\": {},\n",
      "            \"outputParametersTemplateSuccess\": {},\n",
      "            \"outputParametersTemplateFailure\": null\n",
      "        }\n",
      "    ]\n",
      "}\n"
     ]
    }
   ],
   "source": [
    "# Damos de alta el NDT como repositorio de tipo general (no algoritmos inside)\n",
    "\n",
    "req = {\n",
    "    \"name\": \"NDT Repository\",\n",
    "    \"description\": \"Network Digital Twin based in Net2Plan\",\n",
    "    \"imageUrl\": \"elighthouse-ndt\",\n",
    "    \"type\": \"java\"\n",
    "}\n",
    "\n",
    "print(req)\n",
    "\n",
    "# Sent a POST to /algorithmRepository\n",
    "response = requests.post(URL + '/images', json=req)\n",
    "\n",
    "if response.status_code == 200 or response.status_code == 201:\n",
    "    data = response.json()  # Parse JSON data into a dictionary\n",
    "    print(json.dumps(data, indent=4))  # Pretty-print the JSON data\n",
    "else:\n",
    "    data = response.json()\n",
    "    print(json.dumps(data, indent=4))\n",
    "    print(\"Failed to retrieve data\")\n"
   ]
  },
  {
   "cell_type": "markdown",
   "metadata": {},
   "source": [
    "### 2. Instanciar NDT dentro de plataforma OaaS"
   ]
  },
  {
   "cell_type": "code",
   "execution_count": 21,
   "metadata": {},
   "outputs": [
    {
     "name": "stdout",
     "output_type": "stream",
     "text": [
      "{\n",
      "    \"items\": [\n",
      "        {\n",
      "            \"imageId\": 1,\n",
      "            \"name\": \"NDT Repository\",\n",
      "            \"description\": \"Network Digital Twin based in Net2Plan\",\n",
      "            \"imageUrl\": \"elighthouse-ndt\",\n",
      "            \"type\": \"java\",\n",
      "            \"instances\": [],\n",
      "            \"resources\": [\n",
      "                {\n",
      "                    \"resourceId\": 1,\n",
      "                    \"localId\": 0,\n",
      "                    \"name\": \"elighthouse-ndt\",\n",
      "                    \"version\": \"1.0\",\n",
      "                    \"description\": \"Direct Algorithm elighthouse-ndt\",\n",
      "                    \"execution_type\": \"direct\",\n",
      "                    \"inputParametersTemplate\": {},\n",
      "                    \"outputParametersTemplateSuccess\": {},\n",
      "                    \"outputParametersTemplateFailure\": null\n",
      "                }\n",
      "            ]\n",
      "        }\n",
      "    ],\n",
      "    \"total\": 1,\n",
      "    \"page\": 1,\n",
      "    \"size\": 50,\n",
      "    \"pages\": 1\n",
      "}\n"
     ]
    }
   ],
   "source": [
    "# Comprobar que repositorios hay actualmente en la plataforma, deberia existir el repositorio NDT\n",
    "\n",
    "# GET /algorithmRepository\n",
    "response = requests.get(URL + '/images')\n",
    "\n",
    "if response.status_code == 200:\n",
    "    data = response.json()  # Parse JSON data into a dictionary\n",
    "    print(json.dumps(data, indent=4))  # Pretty-print the JSON data\n",
    "else:\n",
    "    print(\"Failed to retrieve data\")"
   ]
  },
  {
   "cell_type": "code",
   "execution_count": 22,
   "metadata": {},
   "outputs": [],
   "source": [
    "image_ndt_id = 1"
   ]
  },
  {
   "cell_type": "code",
   "execution_count": 24,
   "metadata": {},
   "outputs": [
    {
     "name": "stdout",
     "output_type": "stream",
     "text": [
      "{'name': 'NDT Repository Instance 1', 'description': 'Network Digital Twin based in Net2Plan', 'quotaInformation': {'cpu': '1 core', 'diskSpace': '10GB', 'networkBandwidth': '100Mbps', 'ram': '512MB'}, 'image_id': 1}\n",
      "{\n",
      "    \"instanceId\": 1,\n",
      "    \"name\": \"NDT Repository Instance 1\",\n",
      "    \"description\": \"Network Digital Twin based in Net2Plan\",\n",
      "    \"status\": \"running\",\n",
      "    \"quotaInformation\": {\n",
      "        \"cpu\": \"1 core\",\n",
      "        \"diskSpace\": \"10GB\",\n",
      "        \"networkBandwidth\": \"100Mbps\",\n",
      "        \"ram\": \"512MB\"\n",
      "    },\n",
      "    \"image\": {\n",
      "        \"imageId\": 1,\n",
      "        \"name\": \"NDT Repository\",\n",
      "        \"description\": \"Network Digital Twin based in Net2Plan\",\n",
      "        \"imageUrl\": \"elighthouse-ndt\"\n",
      "    }\n",
      "}\n"
     ]
    }
   ],
   "source": [
    "# Creamos una nueva instancia del NDT\n",
    "\n",
    "req = {\n",
    "    \"name\": \"NDT Repository Instance 1\",\n",
    "    \"description\": \"Network Digital Twin based in Net2Plan\",\n",
    "    \"quotaInformation\": {\n",
    "        \"cpu\": \"1 core\",\n",
    "        \"diskSpace\": \"10GB\",\n",
    "        \"networkBandwidth\": \"100Mbps\",\n",
    "        \"ram\": \"512MB\"\n",
    "    },\n",
    "    \"image_id\": image_ndt_id\n",
    "}\n",
    "\n",
    "print(req)\n",
    "\n",
    "# Sent a POST to /algorithmRepository\n",
    "response = requests.post(URL + '/instances', json=req)\n",
    "\n",
    "if response.status_code == 200 or response.status_code == 201:\n",
    "    data = response.json()  # Parse JSON data into a dictionary\n",
    "    print(json.dumps(data, indent=4))  # Pretty-print the JSON data\n",
    "else:\n",
    "    data = response.json()\n",
    "    print(json.dumps(data, indent=4))\n",
    "    print(\"Failed to retrieve data\")"
   ]
  },
  {
   "cell_type": "code",
   "execution_count": 25,
   "metadata": {},
   "outputs": [],
   "source": [
    "instance_id = 1"
   ]
  },
  {
   "cell_type": "code",
   "execution_count": 26,
   "metadata": {},
   "outputs": [
    {
     "name": "stdout",
     "output_type": "stream",
     "text": [
      "{\n",
      "    \"detail\": \"Instance 1 is already started\"\n",
      "}\n",
      "Failed to retrieve data\n"
     ]
    }
   ],
   "source": [
    "# Start instance of NDT\n",
    "response = requests.post(URL + f'/instances/{instance_id}/start')\n",
    "\n",
    "if response.status_code == 200 or response.status_code == 201:\n",
    "    data = response.json()  # Parse JSON data into a dictionary\n",
    "    print(json.dumps(data, indent=4))  # Pretty-print the JSON data\n",
    "else:\n",
    "    data = response.json()\n",
    "    print(json.dumps(data, indent=4))\n",
    "    print(\"Failed to retrieve data\")"
   ]
  },
  {
   "cell_type": "markdown",
   "metadata": {},
   "source": [
    "### 3. Access to NDT directly"
   ]
  },
  {
   "cell_type": "code",
   "execution_count": 27,
   "metadata": {},
   "outputs": [
    {
     "name": "stdout",
     "output_type": "stream",
     "text": [
      "http://localhost:55001\n"
     ]
    }
   ],
   "source": [
    "NDT_URL = f\"http://localhost:{START_PORT + instance_id}\"\n",
    "print(NDT_URL)"
   ]
  },
  {
   "cell_type": "code",
   "execution_count": 29,
   "metadata": {},
   "outputs": [
    {
     "name": "stdout",
     "output_type": "stream",
     "text": [
      "b'{\"detail\":\"Error executing GET request on instance 1. \"}'\n",
      "No topology available\n"
     ]
    }
   ],
   "source": [
    "# Get Current Topology directly from the NDT instance inside OaaS Plataform\n",
    "endpoint = \"/current-topology\"\n",
    "response = requests.get(URL + f'/instances/{instance_id}/execute' + f'{endpoint}')\n",
    "\n",
    "if response.status_code == 200 or response.status_code == 201:\n",
    "    data = response.json()  # Parse JSON data into a dictionary\n",
    "    print(json.dumps(data, indent=4))  # Pretty-print the JSON data\n",
    "elif response.status_code == 422:\n",
    "    print(response.content)\n",
    "    print(\"No topology available\")\n",
    "else:\n",
    "    print(\"Failed to retrieve data\")"
   ]
  },
  {
   "cell_type": "markdown",
   "metadata": {},
   "source": [
    "### 4. OaaS Platform to interactuate with NDT"
   ]
  },
  {
   "cell_type": "code",
   "execution_count": 28,
   "metadata": {},
   "outputs": [
    {
     "name": "stdout",
     "output_type": "stream",
     "text": [
      "{\n",
      "    \"message\": \"Stopped instance 1\"\n",
      "}\n"
     ]
    }
   ],
   "source": [
    "# Stop Instance of NDT\n",
    "response = requests.delete(URL + f'/instances/{instance_id}/stop')\n",
    "\n",
    "if response.status_code == 200 or response.status_code == 201:\n",
    "    data = response.json()  # Parse JSON data into a dictionary\n",
    "    print(json.dumps(data, indent=4))  # Pretty-print the JSON data\n",
    "else:\n",
    "    data = response.json()\n",
    "    print(json.dumps(data, indent=4))\n",
    "    print(\"Failed to retrieve data\")"
   ]
  },
  {
   "cell_type": "code",
   "execution_count": 75,
   "metadata": {},
   "outputs": [
    {
     "name": "stdout",
     "output_type": "stream",
     "text": [
      "{\n",
      "    \"message\": \"Started instance 2\"\n",
      "}\n"
     ]
    }
   ],
   "source": [
    "# Start instance of NDT\n",
    "response = requests.post(URL + f'/instances/{instance_id}/start')\n",
    "\n",
    "if response.status_code == 200 or response.status_code == 201:\n",
    "    data = response.json()  # Parse JSON data into a dictionary\n",
    "    print(json.dumps(data, indent=4))  # Pretty-print the JSON data\n",
    "else:\n",
    "    data = response.json()\n",
    "    print(json.dumps(data, indent=4))\n",
    "    print(\"Failed to retrieve data\")"
   ]
  },
  {
   "cell_type": "code",
   "execution_count": 76,
   "metadata": {},
   "outputs": [
    {
     "name": "stdout",
     "output_type": "stream",
     "text": [
      "{\n",
      "    \"id\": 2,\n",
      "    \"name\": \"NDT Repository Instance 1\",\n",
      "    \"description\": \"Network Digital Twin based in Net2Plan\",\n",
      "    \"status\": \"running\",\n",
      "    \"quotaInformation\": \"none\",\n",
      "    \"repository\": {\n",
      "        \"id\": 20,\n",
      "        \"name\": \"NDT Repository\",\n",
      "        \"description\": \"Network Digital Twin based in Net2Plan\",\n",
      "        \"url\": \"elighthouse-ndt\",\n",
      "        \"type\": \"java\"\n",
      "    }\n",
      "}\n"
     ]
    }
   ],
   "source": [
    "# Get Instance of NDT\n",
    "response = requests.get(URL + f'/instances/{instance_id}')\n",
    "\n",
    "if response.status_code == 200 or response.status_code == 201:\n",
    "    data = response.json()  # Parse JSON data into a dictionary\n",
    "    print(json.dumps(data, indent=4))  # Pretty-print the JSON data\n",
    "else:\n",
    "    data = response.json()\n",
    "    print(json.dumps(data, indent=4))\n",
    "    print(\"Failed to retrieve data\")"
   ]
  },
  {
   "cell_type": "code",
   "execution_count": 15,
   "metadata": {},
   "outputs": [
    {
     "name": "stdout",
     "output_type": "stream",
     "text": [
      "{\n",
      "    \"detail\": \"Instance 1 is already started\"\n",
      "}\n",
      "Failed to retrieve data\n"
     ]
    }
   ],
   "source": [
    "# Delete instance of NDT\n",
    "response = requests.delete(URL + f'/instances/{instance_id}/delete')\n",
    "\n",
    "if response.status_code == 200 or response.status_code == 201:\n",
    "    data = response.json()  # Parse JSON data into a dictionary\n",
    "    print(json.dumps(data, indent=4))  # Pretty-print the JSON data\n",
    "else:\n",
    "    data = response.json()\n",
    "    print(json.dumps(data, indent=4))\n",
    "    print(\"Failed to retrieve data\")"
   ]
  }
 ],
 "metadata": {
  "kernelspec": {
   "display_name": "Python 3",
   "language": "python",
   "name": "python3"
  },
  "language_info": {
   "codemirror_mode": {
    "name": "ipython",
    "version": 3
   },
   "file_extension": ".py",
   "mimetype": "text/x-python",
   "name": "python",
   "nbconvert_exporter": "python",
   "pygments_lexer": "ipython3",
   "version": "3.12.3"
  }
 },
 "nbformat": 4,
 "nbformat_minor": 2
}

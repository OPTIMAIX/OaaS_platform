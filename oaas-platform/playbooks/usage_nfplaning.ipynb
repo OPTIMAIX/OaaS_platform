{
 "cells": [
  {
   "cell_type": "code",
   "execution_count": 3,
   "metadata": {},
   "outputs": [],
   "source": [
    "import requests\n",
    "import json"
   ]
  },
  {
   "cell_type": "markdown",
   "metadata": {},
   "source": [
    "## EDGE problem planning\n",
    "\n",
    "* Imagen docker: optimaix/micro-nfplaning:latest\n",
    "* Arquitectura: basado en MATLAB Runtime for Microservices\n",
    "* Tarda aprox 10min en lanzarse completamente.\n",
    "* Port: 9910\n",
    "\n",
    "Example outputlog:\n",
    "```\n",
    "[2024.04.26 08:39:04.428011] [information] Starting Microservice Runner (pid = 1)\n",
    "2 [2024.04.26 08:39:04.428081] [information] Global locale: en_US\n",
    "3 [2024.04.26 08:39:04.428087] [information] Global encoding: US-ASCII\n",
    "4 [2024.04.26 08:39:04.428092] [information] terminal encoding: US-ASCII\n",
    "12 [2024.04.26 08:43:38.218096] [information] configuring WebFunction router\n",
    "13 [2024.04.26 08:43:38.218121] [information] -- (no routes file configured) Using XHeaderMatcher for WebFunction routing\n",
    "79 [2024.04.26 08:48:11.783796] [out] [worker:1] Worker ready - protocol v2\n",
    "83 [2024.04.26 08:48:11.784318] [information] [PTR:0x1839800] [SERVICE:worker] [THREAD_POOL:request_thread_pool] Worker 1 started\n",
    "[Microservice Runner]\n",
    "Accepting HTTP connections on e2cd3ac64b8c:9910\n",
    "101 [2024.04.26 08:48:11.784586] [information] Microservice Runner started\n",
    "102 [2024.04.26 08:48:11.784601] [information] [PTR:0x1839800] [SERVICE:http] [THREAD_POOL:request_thread_pool] [endpoint:[::]:9910] Listening for connections\n",
    "```\n",
    "\n",
    "-> [MATLAB More info](https://es.mathworks.com/help/compiler_sdk/mps_dev_test/create-a-microservice-docker-image.html)"
   ]
  },
  {
   "cell_type": "code",
   "execution_count": 4,
   "metadata": {},
   "outputs": [],
   "source": [
    "URL = 'http://localhost:9910/NFPSarchive/NFPlanningSolverStructs'"
   ]
  },
  {
   "cell_type": "code",
   "execution_count": 5,
   "metadata": {},
   "outputs": [],
   "source": [
    "# Load the data from a JSON file\n",
    "with open('algoritmo-javier/input_algoritmo_javier.json', 'r') as file:\n",
    "    data = json.load(file)"
   ]
  },
  {
   "cell_type": "code",
   "execution_count": 6,
   "metadata": {},
   "outputs": [
    {
     "name": "stdout",
     "output_type": "stream",
     "text": [
      "{\"lhs\":[\"{   \\\"comment\\\": \\\"EDGE problem planning, Version 1 202403311716 Exp=1, ct=5, st=5, instname := d_1_3_3\\\",   \\\"network\\\":     {       \\\"elements\\\": [         {           \\\"name\\\": \\\"inf1\\\",           \\\"microservices\\\": [             {               \\\"service_name\\\":\\\"serv1\\\",               \\\"microservice_name\\\":\\\"micrServ1\\\"             },             {               \\\"service_name\\\":\\\"serv1\\\",               \\\"microservice_name\\\":\\\"micrServ2\\\"             },             {               \\\"service_name\\\":\\\"serv2\\\",               \\\"microservice_name\\\":\\\"micrServ1\\\"             }           ]         },         {           \\\"name\\\": \\\"inf1\\\",           \\\"microservices\\\": [             {               \\\"service_name\\\":\\\"serv3\\\",               \\\"microservice_name\\\":\\\"micrServ1\\\"             },             {               \\\"service_name\\\":\\\"serv3\\\",               \\\"microservice_name\\\":\\\"micrServ2\\\"             }           ]         }        ]     } }\"]}\n"
     ]
    }
   ],
   "source": [
    "headers = {\n",
    "    'Content-Type': 'application/json'\n",
    "}\n",
    "\n",
    "# Send the POST request\n",
    "response = requests.post(URL, headers=headers, json=data)\n",
    "\n",
    "# Print the response from the server\n",
    "print(response.text)"
   ]
  },
  {
   "cell_type": "code",
   "execution_count": 11,
   "metadata": {},
   "outputs": [
    {
     "name": "stdout",
     "output_type": "stream",
     "text": [
      "{\n",
      "    \"comment\": \"EDGE problem planning, Version 1 202403311716 Exp=1, ct=5, st=5, instname := d_1_3_3\",\n",
      "    \"network\": {\n",
      "        \"elements\": [\n",
      "            {\n",
      "                \"microservices\": [\n",
      "                    {\n",
      "                        \"microservice_name\": \"micrServ1\",\n",
      "                        \"service_name\": \"serv1\"\n",
      "                    },\n",
      "                    {\n",
      "                        \"microservice_name\": \"micrServ2\",\n",
      "                        \"service_name\": \"serv1\"\n",
      "                    },\n",
      "                    {\n",
      "                        \"microservice_name\": \"micrServ1\",\n",
      "                        \"service_name\": \"serv2\"\n",
      "                    }\n",
      "                ],\n",
      "                \"name\": \"inf1\"\n",
      "            },\n",
      "            {\n",
      "                \"microservices\": [\n",
      "                    {\n",
      "                        \"microservice_name\": \"micrServ1\",\n",
      "                        \"service_name\": \"serv3\"\n",
      "                    },\n",
      "                    {\n",
      "                        \"microservice_name\": \"micrServ2\",\n",
      "                        \"service_name\": \"serv3\"\n",
      "                    }\n",
      "                ],\n",
      "                \"name\": \"inf1\"\n",
      "            }\n",
      "        ]\n",
      "    }\n",
      "}\n"
     ]
    }
   ],
   "source": [
    "# Process the response as JSON\n",
    "response_data = response.json()\n",
    "output = json.loads(response_data[\"lhs\"][0])\n",
    "pretty_json = json.dumps(output, indent=4, sort_keys=True)\n",
    "print(pretty_json)"
   ]
  },
  {
   "cell_type": "code",
   "execution_count": 12,
   "metadata": {},
   "outputs": [
    {
     "name": "stdout",
     "output_type": "stream",
     "text": [
      "{\"status\":\"ok\"}\n"
     ]
    }
   ],
   "source": [
    "# Send the POST request\n",
    "response = requests.get(\"http://localhost:9910/api/health\")\n",
    "\n",
    "# Print the response from the server\n",
    "print(response.text)"
   ]
  }
 ],
 "metadata": {
  "kernelspec": {
   "display_name": ".venv",
   "language": "python",
   "name": "python3"
  },
  "language_info": {
   "codemirror_mode": {
    "name": "ipython",
    "version": 3
   },
   "file_extension": ".py",
   "mimetype": "text/x-python",
   "name": "python",
   "nbconvert_exporter": "python",
   "pygments_lexer": "ipython3",
   "version": "3.11.8"
  }
 },
 "nbformat": 4,
 "nbformat_minor": 2
}
